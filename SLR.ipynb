{
  "nbformat": 4,
  "nbformat_minor": 0,
  "metadata": {
    "colab": {
      "name": "SLR",
      "provenance": [],
      "collapsed_sections": [],
      "authorship_tag": "ABX9TyPHF26LZRdoonNjbHrbWFGS",
      "include_colab_link": true
    },
    "kernelspec": {
      "name": "python3",
      "display_name": "Python 3"
    }
  },
  "cells": [
    {
      "cell_type": "markdown",
      "metadata": {
        "id": "view-in-github",
        "colab_type": "text"
      },
      "source": [
        "<a href=\"https://colab.research.google.com/github/sayalidudhane/machinelearning/blob/main/SLR.ipynb\" target=\"_parent\"><img src=\"https://colab.research.google.com/assets/colab-badge.svg\" alt=\"Open In Colab\"/></a>"
      ]
    },
    {
      "cell_type": "code",
      "metadata": {
        "id": "hsVFk6R-dRky",
        "outputId": "6ae43df7-1210-49cd-e0e5-eefdd0acf855",
        "colab": {
          "base_uri": "https://localhost:8080/",
          "height": 316
        }
      },
      "source": [
        "import pandas as pd\n",
        "import numpy as np\n",
        "import statsmodels.api as sm\n",
        "import seaborn as sns\n",
        "import matplotlib.pyplot as plt\n",
        "import math\n",
        " \n",
        "df = pd.read_csv('/content/AttendanceMarksSA (1).csv') \n",
        "df.head() \n",
        "df.describe()"
      ],
      "execution_count": 8,
      "outputs": [
        {
          "output_type": "execute_result",
          "data": {
            "text/html": [
              "<div>\n",
              "<style scoped>\n",
              "    .dataframe tbody tr th:only-of-type {\n",
              "        vertical-align: middle;\n",
              "    }\n",
              "\n",
              "    .dataframe tbody tr th {\n",
              "        vertical-align: top;\n",
              "    }\n",
              "\n",
              "    .dataframe thead th {\n",
              "        text-align: right;\n",
              "    }\n",
              "</style>\n",
              "<table border=\"1\" class=\"dataframe\">\n",
              "  <thead>\n",
              "    <tr style=\"text-align: right;\">\n",
              "      <th></th>\n",
              "      <th>Attendance</th>\n",
              "      <th>MSE</th>\n",
              "      <th>ESE</th>\n",
              "    </tr>\n",
              "  </thead>\n",
              "  <tbody>\n",
              "    <tr>\n",
              "      <th>count</th>\n",
              "      <td>73.000000</td>\n",
              "      <td>73.000000</td>\n",
              "      <td>73.000000</td>\n",
              "    </tr>\n",
              "    <tr>\n",
              "      <th>mean</th>\n",
              "      <td>81.698630</td>\n",
              "      <td>9.780822</td>\n",
              "      <td>46.630137</td>\n",
              "    </tr>\n",
              "    <tr>\n",
              "      <th>std</th>\n",
              "      <td>9.506847</td>\n",
              "      <td>3.047069</td>\n",
              "      <td>6.617542</td>\n",
              "    </tr>\n",
              "    <tr>\n",
              "      <th>min</th>\n",
              "      <td>62.000000</td>\n",
              "      <td>3.000000</td>\n",
              "      <td>32.000000</td>\n",
              "    </tr>\n",
              "    <tr>\n",
              "      <th>25%</th>\n",
              "      <td>75.000000</td>\n",
              "      <td>8.000000</td>\n",
              "      <td>42.000000</td>\n",
              "    </tr>\n",
              "    <tr>\n",
              "      <th>50%</th>\n",
              "      <td>80.000000</td>\n",
              "      <td>10.000000</td>\n",
              "      <td>47.000000</td>\n",
              "    </tr>\n",
              "    <tr>\n",
              "      <th>75%</th>\n",
              "      <td>90.000000</td>\n",
              "      <td>11.000000</td>\n",
              "      <td>50.000000</td>\n",
              "    </tr>\n",
              "    <tr>\n",
              "      <th>max</th>\n",
              "      <td>98.000000</td>\n",
              "      <td>17.000000</td>\n",
              "      <td>64.000000</td>\n",
              "    </tr>\n",
              "  </tbody>\n",
              "</table>\n",
              "</div>"
            ],
            "text/plain": [
              "       Attendance        MSE        ESE\n",
              "count   73.000000  73.000000  73.000000\n",
              "mean    81.698630   9.780822  46.630137\n",
              "std      9.506847   3.047069   6.617542\n",
              "min     62.000000   3.000000  32.000000\n",
              "25%     75.000000   8.000000  42.000000\n",
              "50%     80.000000  10.000000  47.000000\n",
              "75%     90.000000  11.000000  50.000000\n",
              "max     98.000000  17.000000  64.000000"
            ]
          },
          "metadata": {
            "tags": []
          },
          "execution_count": 8
        }
      ]
    },
    {
      "cell_type": "code",
      "metadata": {
        "id": "0ZMRn31geN-K",
        "outputId": "73ab570f-b9a0-4c0f-e761-8c73282ad6eb",
        "colab": {
          "base_uri": "https://localhost:8080/",
          "height": 100
        }
      },
      "source": [
        "corr = df.corr() \n",
        "corr.style.background_gradient(cmap='coolwarm')"
      ],
      "execution_count": 9,
      "outputs": [
        {
          "output_type": "execute_result",
          "data": {
            "text/html": [
              "<style  type=\"text/css\" >\n",
              "#T_8290ebe0_11d6_11eb_837b_0242ac1c0002row0_col0,#T_8290ebe0_11d6_11eb_837b_0242ac1c0002row1_col1,#T_8290ebe0_11d6_11eb_837b_0242ac1c0002row2_col2{\n",
              "            background-color:  #b40426;\n",
              "            color:  #f1f1f1;\n",
              "        }#T_8290ebe0_11d6_11eb_837b_0242ac1c0002row0_col1,#T_8290ebe0_11d6_11eb_837b_0242ac1c0002row0_col2,#T_8290ebe0_11d6_11eb_837b_0242ac1c0002row2_col0{\n",
              "            background-color:  #3b4cc0;\n",
              "            color:  #f1f1f1;\n",
              "        }#T_8290ebe0_11d6_11eb_837b_0242ac1c0002row1_col0{\n",
              "            background-color:  #4257c9;\n",
              "            color:  #f1f1f1;\n",
              "        }#T_8290ebe0_11d6_11eb_837b_0242ac1c0002row1_col2{\n",
              "            background-color:  #f18f71;\n",
              "            color:  #000000;\n",
              "        }#T_8290ebe0_11d6_11eb_837b_0242ac1c0002row2_col1{\n",
              "            background-color:  #f29072;\n",
              "            color:  #000000;\n",
              "        }</style><table id=\"T_8290ebe0_11d6_11eb_837b_0242ac1c0002\" ><thead>    <tr>        <th class=\"blank level0\" ></th>        <th class=\"col_heading level0 col0\" >Attendance</th>        <th class=\"col_heading level0 col1\" >MSE</th>        <th class=\"col_heading level0 col2\" >ESE</th>    </tr></thead><tbody>\n",
              "                <tr>\n",
              "                        <th id=\"T_8290ebe0_11d6_11eb_837b_0242ac1c0002level0_row0\" class=\"row_heading level0 row0\" >Attendance</th>\n",
              "                        <td id=\"T_8290ebe0_11d6_11eb_837b_0242ac1c0002row0_col0\" class=\"data row0 col0\" >1.000000</td>\n",
              "                        <td id=\"T_8290ebe0_11d6_11eb_837b_0242ac1c0002row0_col1\" class=\"data row0 col1\" >-0.080943</td>\n",
              "                        <td id=\"T_8290ebe0_11d6_11eb_837b_0242ac1c0002row0_col2\" class=\"data row0 col2\" >-0.109972</td>\n",
              "            </tr>\n",
              "            <tr>\n",
              "                        <th id=\"T_8290ebe0_11d6_11eb_837b_0242ac1c0002level0_row1\" class=\"row_heading level0 row1\" >MSE</th>\n",
              "                        <td id=\"T_8290ebe0_11d6_11eb_837b_0242ac1c0002row1_col0\" class=\"data row1 col0\" >-0.080943</td>\n",
              "                        <td id=\"T_8290ebe0_11d6_11eb_837b_0242ac1c0002row1_col1\" class=\"data row1 col1\" >1.000000</td>\n",
              "                        <td id=\"T_8290ebe0_11d6_11eb_837b_0242ac1c0002row1_col2\" class=\"data row1 col2\" >0.751530</td>\n",
              "            </tr>\n",
              "            <tr>\n",
              "                        <th id=\"T_8290ebe0_11d6_11eb_837b_0242ac1c0002level0_row2\" class=\"row_heading level0 row2\" >ESE</th>\n",
              "                        <td id=\"T_8290ebe0_11d6_11eb_837b_0242ac1c0002row2_col0\" class=\"data row2 col0\" >-0.109972</td>\n",
              "                        <td id=\"T_8290ebe0_11d6_11eb_837b_0242ac1c0002row2_col1\" class=\"data row2 col1\" >0.751530</td>\n",
              "                        <td id=\"T_8290ebe0_11d6_11eb_837b_0242ac1c0002row2_col2\" class=\"data row2 col2\" >1.000000</td>\n",
              "            </tr>\n",
              "    </tbody></table>"
            ],
            "text/plain": [
              "<pandas.io.formats.style.Styler at 0x7fb208e9acf8>"
            ]
          },
          "metadata": {
            "tags": []
          },
          "execution_count": 9
        }
      ]
    },
    {
      "cell_type": "code",
      "metadata": {
        "id": "S6fvL3TxfNyi",
        "outputId": "7cc07a5e-3c60-4651-8c7c-4737458fc74c",
        "colab": {
          "base_uri": "https://localhost:8080/",
          "height": 297
        }
      },
      "source": [
        "X=df[\"MSE\"]\n",
        "Y=df[\"ESE\"]\n",
        " \n",
        "sns.scatterplot(X, Y)"
      ],
      "execution_count": 13,
      "outputs": [
        {
          "output_type": "stream",
          "text": [
            "/usr/local/lib/python3.6/dist-packages/seaborn/_decorators.py:43: FutureWarning: Pass the following variables as keyword args: x, y. From version 0.12, the only valid positional argument will be `data`, and passing other arguments without an explicit keyword will result in an error or misinterpretation.\n",
            "  FutureWarning\n"
          ],
          "name": "stderr"
        },
        {
          "output_type": "execute_result",
          "data": {
            "text/plain": [
              "<matplotlib.axes._subplots.AxesSubplot at 0x7fb208a136d8>"
            ]
          },
          "metadata": {
            "tags": []
          },
          "execution_count": 13
        },
        {
          "output_type": "display_data",
          "data": {
            "image/png": "[encoded data removed]",
            "text/plain": [
              "<Figure size 432x288 with 1 Axes>"
            ]
          },
          "metadata": {
            "tags": [],
            "needs_background": "light"
          }
        }
      ]
    },
    {
      "cell_type": "code",
      "metadata": {
        "id": "PdkknuOJnbiz",
        "outputId": "513c7c96-3a69-4829-ef4e-c06a98d39a9b",
        "colab": {
          "base_uri": "https://localhost:8080/",
          "height": 256
        }
      },
      "source": [
        "endog = df[\"ESE\"]\n",
        "exog = sm.add_constant(df[['MSE']]) \n",
        "print(exog)"
      ],
      "execution_count": 14,
      "outputs": [
        {
          "output_type": "stream",
          "text": [
            "    const  MSE\n",
            "0     1.0   10\n",
            "1     1.0    7\n",
            "2     1.0    3\n",
            "3     1.0   16\n",
            "4     1.0    9\n",
            "..    ...  ...\n",
            "68    1.0   10\n",
            "69    1.0    8\n",
            "70    1.0    9\n",
            "71    1.0   11\n",
            "72    1.0   12\n",
            "\n",
            "[73 rows x 2 columns]\n"
          ],
          "name": "stdout"
        }
      ]
    },
    {
      "cell_type": "code",
      "metadata": {
        "id": "LEasbEBWnzxO",
        "outputId": "ec25e54f-8db0-4f90-d87b-a94784432cfe",
        "colab": {
          "base_uri": "https://localhost:8080/",
          "height": 464
        }
      },
      "source": [
        "mod = sm.OLS(endog, exog) \n",
        "results = mod.fit() \n",
        "print(results.summary())"
      ],
      "execution_count": 15,
      "outputs": [
        {
          "output_type": "stream",
          "text": [
            "                            OLS Regression Results                            \n",
            "==============================================================================\n",
            "Dep. Variable:                    ESE   R-squared:                       0.565\n",
            "Model:                            OLS   Adj. R-squared:                  0.559\n",
            "Method:                 Least Squares   F-statistic:                     92.14\n",
            "Date:                Mon, 19 Oct 2020   Prob (F-statistic):           1.85e-14\n",
            "Time:                        06:51:14   Log-Likelihood:                -210.66\n",
            "No. Observations:                  73   AIC:                             425.3\n",
            "Df Residuals:                      71   BIC:                             429.9\n",
            "Df Model:                           1                                         \n",
            "Covariance Type:            nonrobust                                         \n",
            "==============================================================================\n",
            "                 coef    std err          t      P>|t|      [0.025      0.975]\n",
            "------------------------------------------------------------------------------\n",
            "const         30.6664      1.741     17.616      0.000      27.195      34.137\n",
            "MSE            1.6322      0.170      9.599      0.000       1.293       1.971\n",
            "==============================================================================\n",
            "Omnibus:                        1.412   Durbin-Watson:                   1.441\n",
            "Prob(Omnibus):                  0.494   Jarque-Bera (JB):                1.119\n",
            "Skew:                          -0.029   Prob(JB):                        0.572\n",
            "Kurtosis:                       2.396   Cond. No.                         34.9\n",
            "==============================================================================\n",
            "\n",
            "Warnings:\n",
            "[1] Standard Errors assume that the covariance matrix of the errors is correctly specified.\n"
          ],
          "name": "stdout"
        }
      ]
    },
    {
      "cell_type": "code",
      "metadata": {
        "id": "up7aW3VHoF42"
      },
      "source": [
        "def RSE(y_true, y_predicted):\n",
        "  y_true = np.array(y_true) \n",
        "  y_predicted = np.array(y_predicted) \n",
        "  RSS = np.sum(np.square(y_true - y_predicted)) \n",
        "  rse = math.sqrt(RSS / (len(y_true) - 2))\n",
        "  return rse"
      ],
      "execution_count": 32,
      "outputs": []
    },
    {
      "cell_type": "code",
      "metadata": {
        "id": "Gxki-y8towmj",
        "outputId": "56819c71-1a34-4722-d3e7-c69e55e58e7a",
        "colab": {
          "base_uri": "https://localhost:8080/",
          "height": 34
        }
      },
      "source": [
        "rse = RSE(df['ESE'],results.predict())\n",
        "print(rse)"
      ],
      "execution_count": 42,
      "outputs": [
        {
          "output_type": "stream",
          "text": [
            "4.396224549647787\n"
          ],
          "name": "stdout"
        }
      ]
    },
    {
      "cell_type": "code",
      "metadata": {
        "id": "NtaGKmY9pCTR",
        "outputId": "30dddad5-e6dd-4a83-a059-d05602db1232",
        "colab": {
          "base_uri": "https://localhost:8080/",
          "height": 256
        }
      },
      "source": [
        "endog1 = df['ESE']\n",
        "exog1 = sm.add_constant(df[['Attendance']]) \n",
        "print(exog)"
      ],
      "execution_count": 46,
      "outputs": [
        {
          "output_type": "stream",
          "text": [
            "    const  MSE\n",
            "0     1.0   10\n",
            "1     1.0    7\n",
            "2     1.0    3\n",
            "3     1.0   16\n",
            "4     1.0    9\n",
            "..    ...  ...\n",
            "68    1.0   10\n",
            "69    1.0    8\n",
            "70    1.0    9\n",
            "71    1.0   11\n",
            "72    1.0   12\n",
            "\n",
            "[73 rows x 2 columns]\n"
          ],
          "name": "stdout"
        }
      ]
    },
    {
      "cell_type": "code",
      "metadata": {
        "id": "UGIpIh9pu3K2",
        "outputId": "c70677ed-85de-49f8-f9af-df91adb0116d",
        "colab": {
          "base_uri": "https://localhost:8080/",
          "height": 464
        }
      },
      "source": [
        "mod1 = sm.OLS(endog,exog1) \n",
        "results1 = mod1.fit() \n",
        "print(results1.summary())"
      ],
      "execution_count": 49,
      "outputs": [
        {
          "output_type": "stream",
          "text": [
            "                            OLS Regression Results                            \n",
            "==============================================================================\n",
            "Dep. Variable:                    ESE   R-squared:                       0.012\n",
            "Model:                            OLS   Adj. R-squared:                 -0.002\n",
            "Method:                 Least Squares   F-statistic:                    0.8692\n",
            "Date:                Mon, 19 Oct 2020   Prob (F-statistic):              0.354\n",
            "Time:                        07:22:59   Log-Likelihood:                -240.58\n",
            "No. Observations:                  73   AIC:                             485.2\n",
            "Df Residuals:                      71   BIC:                             489.8\n",
            "Df Model:                           1                                         \n",
            "Covariance Type:            nonrobust                                         \n",
            "==============================================================================\n",
            "                 coef    std err          t      P>|t|      [0.025      0.975]\n",
            "------------------------------------------------------------------------------\n",
            "const         52.8841      6.753      7.831      0.000      39.419      66.349\n",
            "Attendance    -0.0765      0.082     -0.932      0.354      -0.240       0.087\n",
            "==============================================================================\n",
            "Omnibus:                        0.286   Durbin-Watson:                   1.788\n",
            "Prob(Omnibus):                  0.867   Jarque-Bera (JB):                0.425\n",
            "Skew:                           0.129   Prob(JB):                        0.808\n",
            "Kurtosis:                       2.730   Cond. No.                         716.\n",
            "==============================================================================\n",
            "\n",
            "Warnings:\n",
            "[1] Standard Errors assume that the covariance matrix of the errors is correctly specified.\n"
          ],
          "name": "stdout"
        }
      ]
    }
  ]
}