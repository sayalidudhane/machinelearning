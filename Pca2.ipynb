{
  "nbformat": 4,
  "nbformat_minor": 0,
  "metadata": {
    "colab": {
      "name": "Pca2.ipynb",
      "provenance": [],
      "collapsed_sections": [],
      "authorship_tag": "ABX9TyPGF+bepQzxiYXPG1ebGspA",
      "include_colab_link": true
    },
    "kernelspec": {
      "name": "python3",
      "display_name": "Python 3"
    }
  },
  "cells": [
    {
      "cell_type": "markdown",
      "metadata": {
        "id": "view-in-github",
        "colab_type": "text"
      },
      "source": [
        "<a href=\"https://colab.research.google.com/github/sayalidudhane/machinelearning/blob/main/Pca2.ipynb\" target=\"_parent\"><img src=\"https://colab.research.google.com/assets/colab-badge.svg\" alt=\"Open In Colab\"/></a>"
      ]
    },
    {
      "cell_type": "code",
      "metadata": {
        "id": "kdVgdqo_L7XD"
      },
      "source": [
        "import pandas as pd\n",
        "import numpy as np\n",
        "import statsmodels.api as sm\n",
        "import seaborn as sns\n",
        "import matplotlib.pyplot as plt\n",
        "import math"
      ],
      "execution_count": 2,
      "outputs": []
    },
    {
      "cell_type": "code",
      "metadata": {
        "colab": {
          "base_uri": "https://localhost:8080/",
          "height": 203
        },
        "id": "3qMXyVq-MEQs",
        "outputId": "5c3a0144-8696-4ae7-a07f-feb1429eedbd"
      },
      "source": [
        "df = pd.read_csv('/content/chd.csv')\n",
        "df.head()"
      ],
      "execution_count": 4,
      "outputs": [
        {
          "output_type": "execute_result",
          "data": {
            "text/html": [
              "<div>\n",
              "<style scoped>\n",
              "    .dataframe tbody tr th:only-of-type {\n",
              "        vertical-align: middle;\n",
              "    }\n",
              "\n",
              "    .dataframe tbody tr th {\n",
              "        vertical-align: top;\n",
              "    }\n",
              "\n",
              "    .dataframe thead th {\n",
              "        text-align: right;\n",
              "    }\n",
              "</style>\n",
              "<table border=\"1\" class=\"dataframe\">\n",
              "  <thead>\n",
              "    <tr style=\"text-align: right;\">\n",
              "      <th></th>\n",
              "      <th>Obs</th>\n",
              "      <th>ID</th>\n",
              "      <th>AGE</th>\n",
              "      <th>agrp</th>\n",
              "      <th>CHD</th>\n",
              "    </tr>\n",
              "  </thead>\n",
              "  <tbody>\n",
              "    <tr>\n",
              "      <th>0</th>\n",
              "      <td>1</td>\n",
              "      <td>1</td>\n",
              "      <td>20</td>\n",
              "      <td>1</td>\n",
              "      <td>0</td>\n",
              "    </tr>\n",
              "    <tr>\n",
              "      <th>1</th>\n",
              "      <td>2</td>\n",
              "      <td>2</td>\n",
              "      <td>23</td>\n",
              "      <td>1</td>\n",
              "      <td>0</td>\n",
              "    </tr>\n",
              "    <tr>\n",
              "      <th>2</th>\n",
              "      <td>3</td>\n",
              "      <td>3</td>\n",
              "      <td>24</td>\n",
              "      <td>1</td>\n",
              "      <td>0</td>\n",
              "    </tr>\n",
              "    <tr>\n",
              "      <th>3</th>\n",
              "      <td>4</td>\n",
              "      <td>4</td>\n",
              "      <td>25</td>\n",
              "      <td>1</td>\n",
              "      <td>0</td>\n",
              "    </tr>\n",
              "    <tr>\n",
              "      <th>4</th>\n",
              "      <td>5</td>\n",
              "      <td>5</td>\n",
              "      <td>25</td>\n",
              "      <td>1</td>\n",
              "      <td>1</td>\n",
              "    </tr>\n",
              "  </tbody>\n",
              "</table>\n",
              "</div>"
            ],
            "text/plain": [
              "   Obs  ID  AGE  agrp  CHD\n",
              "0    1   1   20     1    0\n",
              "1    2   2   23     1    0\n",
              "2    3   3   24     1    0\n",
              "3    4   4   25     1    0\n",
              "4    5   5   25     1    1"
            ]
          },
          "metadata": {
            "tags": []
          },
          "execution_count": 4
        }
      ]
    },
    {
      "cell_type": "code",
      "metadata": {
        "colab": {
          "base_uri": "https://localhost:8080/",
          "height": 316
        },
        "id": "MbAlRhZWMboZ",
        "outputId": "d2dca15d-01c3-4879-fdbc-ae2639c4410c"
      },
      "source": [
        "df.describe()"
      ],
      "execution_count": 5,
      "outputs": [
        {
          "output_type": "execute_result",
          "data": {
            "text/html": [
              "<div>\n",
              "<style scoped>\n",
              "    .dataframe tbody tr th:only-of-type {\n",
              "        vertical-align: middle;\n",
              "    }\n",
              "\n",
              "    .dataframe tbody tr th {\n",
              "        vertical-align: top;\n",
              "    }\n",
              "\n",
              "    .dataframe thead th {\n",
              "        text-align: right;\n",
              "    }\n",
              "</style>\n",
              "<table border=\"1\" class=\"dataframe\">\n",
              "  <thead>\n",
              "    <tr style=\"text-align: right;\">\n",
              "      <th></th>\n",
              "      <th>Obs</th>\n",
              "      <th>ID</th>\n",
              "      <th>AGE</th>\n",
              "      <th>agrp</th>\n",
              "      <th>CHD</th>\n",
              "    </tr>\n",
              "  </thead>\n",
              "  <tbody>\n",
              "    <tr>\n",
              "      <th>count</th>\n",
              "      <td>100.000000</td>\n",
              "      <td>100.000000</td>\n",
              "      <td>100.000000</td>\n",
              "      <td>100.000000</td>\n",
              "      <td>100.00000</td>\n",
              "    </tr>\n",
              "    <tr>\n",
              "      <th>mean</th>\n",
              "      <td>50.500000</td>\n",
              "      <td>50.500000</td>\n",
              "      <td>44.380000</td>\n",
              "      <td>4.480000</td>\n",
              "      <td>0.43000</td>\n",
              "    </tr>\n",
              "    <tr>\n",
              "      <th>std</th>\n",
              "      <td>29.011492</td>\n",
              "      <td>29.011492</td>\n",
              "      <td>11.721327</td>\n",
              "      <td>2.240491</td>\n",
              "      <td>0.49757</td>\n",
              "    </tr>\n",
              "    <tr>\n",
              "      <th>min</th>\n",
              "      <td>1.000000</td>\n",
              "      <td>1.000000</td>\n",
              "      <td>20.000000</td>\n",
              "      <td>1.000000</td>\n",
              "      <td>0.00000</td>\n",
              "    </tr>\n",
              "    <tr>\n",
              "      <th>25%</th>\n",
              "      <td>25.750000</td>\n",
              "      <td>25.750000</td>\n",
              "      <td>34.750000</td>\n",
              "      <td>2.750000</td>\n",
              "      <td>0.00000</td>\n",
              "    </tr>\n",
              "    <tr>\n",
              "      <th>50%</th>\n",
              "      <td>50.500000</td>\n",
              "      <td>50.500000</td>\n",
              "      <td>44.000000</td>\n",
              "      <td>4.000000</td>\n",
              "      <td>0.00000</td>\n",
              "    </tr>\n",
              "    <tr>\n",
              "      <th>75%</th>\n",
              "      <td>75.250000</td>\n",
              "      <td>75.250000</td>\n",
              "      <td>55.000000</td>\n",
              "      <td>7.000000</td>\n",
              "      <td>1.00000</td>\n",
              "    </tr>\n",
              "    <tr>\n",
              "      <th>max</th>\n",
              "      <td>100.000000</td>\n",
              "      <td>100.000000</td>\n",
              "      <td>69.000000</td>\n",
              "      <td>8.000000</td>\n",
              "      <td>1.00000</td>\n",
              "    </tr>\n",
              "  </tbody>\n",
              "</table>\n",
              "</div>"
            ],
            "text/plain": [
              "              Obs          ID         AGE        agrp        CHD\n",
              "count  100.000000  100.000000  100.000000  100.000000  100.00000\n",
              "mean    50.500000   50.500000   44.380000    4.480000    0.43000\n",
              "std     29.011492   29.011492   11.721327    2.240491    0.49757\n",
              "min      1.000000    1.000000   20.000000    1.000000    0.00000\n",
              "25%     25.750000   25.750000   34.750000    2.750000    0.00000\n",
              "50%     50.500000   50.500000   44.000000    4.000000    0.00000\n",
              "75%     75.250000   75.250000   55.000000    7.000000    1.00000\n",
              "max    100.000000  100.000000   69.000000    8.000000    1.00000"
            ]
          },
          "metadata": {
            "tags": []
          },
          "execution_count": 5
        }
      ]
    },
    {
      "cell_type": "code",
      "metadata": {
        "colab": {
          "base_uri": "https://localhost:8080/"
        },
        "id": "YGMP63riMb-i",
        "outputId": "69d5a62c-03c1-4e0c-c0b2-42c72497d1ab"
      },
      "source": [
        "endog = df['agrp'].head(4)\n",
        "exog =  df[['Obs','ID','AGE']].head(4)\n",
        "print(exog)"
      ],
      "execution_count": 6,
      "outputs": [
        {
          "output_type": "stream",
          "text": [
            "   Obs  ID  AGE\n",
            "0    1   1   20\n",
            "1    2   2   23\n",
            "2    3   3   24\n",
            "3    4   4   25\n"
          ],
          "name": "stdout"
        }
      ]
    },
    {
      "cell_type": "code",
      "metadata": {
        "colab": {
          "base_uri": "https://localhost:8080/"
        },
        "id": "x0oITYEZMdCW",
        "outputId": "93804bbf-b750-4ac4-86de-58a255341530"
      },
      "source": [
        "X=exog.to_numpy()\n",
        "Y= endog.to_numpy()\n",
        "print(X)"
      ],
      "execution_count": 7,
      "outputs": [
        {
          "output_type": "stream",
          "text": [
            "[[ 1  1 20]\n",
            " [ 2  2 23]\n",
            " [ 3  3 24]\n",
            " [ 4  4 25]]\n"
          ],
          "name": "stdout"
        }
      ]
    },
    {
      "cell_type": "code",
      "metadata": {
        "id": "LOhWa-KXM2yy"
      },
      "source": [
        "from numpy import array\n",
        "from numpy import mean\n",
        "from numpy import cov\n",
        "from numpy.linalg import eig"
      ],
      "execution_count": 8,
      "outputs": []
    },
    {
      "cell_type": "code",
      "metadata": {
        "colab": {
          "base_uri": "https://localhost:8080/"
        },
        "id": "O0DVdhpuM3Ct",
        "outputId": "01ccd69c-5944-4cdd-af3b-ce33adc06739"
      },
      "source": [
        "M = mean(X.T, axis=1)\n",
        "print(M)"
      ],
      "execution_count": 9,
      "outputs": [
        {
          "output_type": "stream",
          "text": [
            "[ 2.5  2.5 23. ]\n"
          ],
          "name": "stdout"
        }
      ]
    },
    {
      "cell_type": "code",
      "metadata": {
        "colab": {
          "base_uri": "https://localhost:8080/"
        },
        "id": "eFynhhrjNAwu",
        "outputId": "58e38026-f503-44e7-b010-cc7764a9d46a"
      },
      "source": [
        "C= X-M\n",
        "print(C)"
      ],
      "execution_count": 10,
      "outputs": [
        {
          "output_type": "stream",
          "text": [
            "[[-1.5 -1.5 -3. ]\n",
            " [-0.5 -0.5  0. ]\n",
            " [ 0.5  0.5  1. ]\n",
            " [ 1.5  1.5  2. ]]\n"
          ],
          "name": "stdout"
        }
      ]
    },
    {
      "cell_type": "code",
      "metadata": {
        "colab": {
          "base_uri": "https://localhost:8080/"
        },
        "id": "QH1VC8fdNA7e",
        "outputId": "3117313c-a867-4385-960c-5b8584fd6139"
      },
      "source": [
        "V = cov(C.T)\n",
        "print(V)"
      ],
      "execution_count": 11,
      "outputs": [
        {
          "output_type": "stream",
          "text": [
            "[[1.66666667 1.66666667 2.66666667]\n",
            " [1.66666667 1.66666667 2.66666667]\n",
            " [2.66666667 2.66666667 4.66666667]]\n"
          ],
          "name": "stdout"
        }
      ]
    },
    {
      "cell_type": "code",
      "metadata": {
        "colab": {
          "base_uri": "https://localhost:8080/"
        },
        "id": "PLMUBYs_NL6c",
        "outputId": "a6e11201-21db-4e11-e87e-f31d12cf98cf"
      },
      "source": [
        "values, vectors = eig(V)\n",
        "print(vectors)\n",
        "print(values)"
      ],
      "execution_count": 12,
      "outputs": [
        {
          "output_type": "stream",
          "text": [
            "[[-4.54401349e-01 -7.07106781e-01 -5.41774320e-01]\n",
            " [-4.54401349e-01  7.07106781e-01 -5.41774320e-01]\n",
            " [-7.66184591e-01  2.03840233e-15  6.42620551e-01]]\n",
            "[ 7.82970843e+00 -4.48442806e-16  1.70291569e-01]\n"
          ],
          "name": "stdout"
        }
      ]
    },
    {
      "cell_type": "code",
      "metadata": {
        "colab": {
          "base_uri": "https://localhost:8080/"
        },
        "id": "ElmZK90ONTRo",
        "outputId": "b1e030d3-d1cd-4024-de7b-5a007d9bef70"
      },
      "source": [
        "P = vectors.T.dot(C.T)\n",
        "print(P.T)"
      ],
      "execution_count": 13,
      "outputs": [
        {
          "output_type": "stream",
          "text": [
            "[[ 3.66175782e+00 -1.11920338e-15 -3.02538691e-01]\n",
            " [ 4.54401349e-01  1.66533454e-15  5.41774320e-01]\n",
            " [-1.22058594e+00  3.73067794e-16  1.00846230e-01]\n",
            " [-2.89557323e+00 -9.19198948e-16 -3.40081859e-01]]\n"
          ],
          "name": "stdout"
        }
      ]
    },
    {
      "cell_type": "code",
      "metadata": {
        "id": "r8KU5PO3NTuO"
      },
      "source": [
        "from sklearn.decomposition import PCA\n",
        "pca = PCA(n_components=1)\n",
        "principalComponents = pca.fit_transform(X)\n",
        "principalDf = pd.DataFrame(data = principalComponents,columns = ['principal component 1'])"
      ],
      "execution_count": 14,
      "outputs": []
    },
    {
      "cell_type": "code",
      "metadata": {
        "colab": {
          "base_uri": "https://localhost:8080/"
        },
        "id": "ztbylT7mNT42",
        "outputId": "9ba8d0aa-a3c3-4309-8cce-f34506d4b204"
      },
      "source": [
        "exog1 = sm.add_constant(principalDf[['principal component 1']])\n",
        "print(exog1)"
      ],
      "execution_count": 15,
      "outputs": [
        {
          "output_type": "stream",
          "text": [
            "   const  principal component 1\n",
            "0    1.0               3.661758\n",
            "1    1.0               0.454401\n",
            "2    1.0              -1.220586\n",
            "3    1.0              -2.895573\n"
          ],
          "name": "stdout"
        }
      ]
    },
    {
      "cell_type": "code",
      "metadata": {
        "colab": {
          "base_uri": "https://localhost:8080/"
        },
        "id": "qP0J5-Q5NkK0",
        "outputId": "47e5617c-6a25-415f-8492-d897918a0236"
      },
      "source": [
        "from sklearn import linear_model\n",
        "lm = linear_model.LinearRegression()\n",
        "model = lm.fit(exog1,endog)\n",
        "lm.coef_"
      ],
      "execution_count": 16,
      "outputs": [
        {
          "output_type": "execute_result",
          "data": {
            "text/plain": [
              "array([0., 0.])"
            ]
          },
          "metadata": {
            "tags": []
          },
          "execution_count": 16
        }
      ]
    },
    {
      "cell_type": "code",
      "metadata": {
        "colab": {
          "base_uri": "https://localhost:8080/"
        },
        "id": "aoPfqCfGNoiY",
        "outputId": "204c208a-1180-438b-be0b-7fcc07c94a0a"
      },
      "source": [
        "lm.intercept_"
      ],
      "execution_count": 17,
      "outputs": [
        {
          "output_type": "execute_result",
          "data": {
            "text/plain": [
              "1.0"
            ]
          },
          "metadata": {
            "tags": []
          },
          "execution_count": 17
        }
      ]
    },
    {
      "cell_type": "code",
      "metadata": {
        "id": "_Lv6monvNvrE"
      },
      "source": [
        "def RSE(y_true, y_predicted):\n",
        "       \n",
        "    y_true = np.array(y_true)\n",
        "    y_predicted = np.array(y_predicted)\n",
        "    RSS = np.sum(np.square(y_true - y_predicted))\n",
        "    rse = math.sqrt(RSS / (len(y_true) - 2))\n",
        "    return rse"
      ],
      "execution_count": 19,
      "outputs": []
    },
    {
      "cell_type": "code",
      "metadata": {
        "id": "cLnq4h4FNv02"
      },
      "source": [
        "ypred =lm.predict(exog1)"
      ],
      "execution_count": 21,
      "outputs": []
    },
    {
      "cell_type": "code",
      "metadata": {
        "colab": {
          "base_uri": "https://localhost:8080/"
        },
        "id": "7jg4uVtHNv-z",
        "outputId": "f5f239fb-4b9f-4e87-c78b-c7f00641a1ce"
      },
      "source": [
        "re = RSE(endog,ypred)\n",
        "print(re)"
      ],
      "execution_count": 22,
      "outputs": [
        {
          "output_type": "stream",
          "text": [
            "0.0\n"
          ],
          "name": "stdout"
        }
      ]
    }
  ]
}