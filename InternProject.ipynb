{
  "nbformat": 4,
  "nbformat_minor": 0,
  "metadata": {
    "colab": {
      "name": "InternProject",
      "provenance": [],
      "collapsed_sections": [],
      "authorship_tag": "ABX9TyOiiRMYgIpUNoQCquZIIFup",
      "include_colab_link": true
    },
    "kernelspec": {
      "name": "python3",
      "display_name": "Python 3"
    }
  },
  "cells": [
    {
      "cell_type": "markdown",
      "metadata": {
        "id": "view-in-github",
        "colab_type": "text"
      },
      "source": [
        "<a href=\"https://colab.research.google.com/github/sayalidudhane/machinelearning/blob/main/InternProject.ipynb\" target=\"_parent\"><img src=\"https://colab.research.google.com/assets/colab-badge.svg\" alt=\"Open In Colab\"/></a>"
      ]
    },
    {
      "cell_type": "code",
      "metadata": {
        "id": "s75z6o8MQ0vm"
      },
      "source": [
        "import numpy as np \n",
        "import pandas as pd \n",
        "import matplotlib.cm as cm \n",
        "import matplotlib.pyplot as plt"
      ],
      "execution_count": null,
      "outputs": []
    },
    {
      "cell_type": "code",
      "metadata": {
        "id": "4XpezitwQ-ka",
        "colab": {
          "base_uri": "https://localhost:8080/",
          "height": 223
        },
        "outputId": "8369b5a6-831e-42af-e122-adadee777e7a"
      },
      "source": [
        "data_train = pd.read_csv(\"/content/train.csv\")\n",
        "data_train.head()"
      ],
      "execution_count": null,
      "outputs": [
        {
          "output_type": "execute_result",
          "data": {
            "text/html": [
              "<div>\n",
              "<style scoped>\n",
              "    .dataframe tbody tr th:only-of-type {\n",
              "        vertical-align: middle;\n",
              "    }\n",
              "\n",
              "    .dataframe tbody tr th {\n",
              "        vertical-align: top;\n",
              "    }\n",
              "\n",
              "    .dataframe thead th {\n",
              "        text-align: right;\n",
              "    }\n",
              "</style>\n",
              "<table border=\"1\" class=\"dataframe\">\n",
              "  <thead>\n",
              "    <tr style=\"text-align: right;\">\n",
              "      <th></th>\n",
              "      <th>vidid</th>\n",
              "      <th>adview</th>\n",
              "      <th>views</th>\n",
              "      <th>likes</th>\n",
              "      <th>dislikes</th>\n",
              "      <th>comment</th>\n",
              "      <th>published</th>\n",
              "      <th>duration</th>\n",
              "      <th>category</th>\n",
              "    </tr>\n",
              "  </thead>\n",
              "  <tbody>\n",
              "    <tr>\n",
              "      <th>0</th>\n",
              "      <td>VID_18655</td>\n",
              "      <td>40</td>\n",
              "      <td>1031602</td>\n",
              "      <td>8523</td>\n",
              "      <td>363</td>\n",
              "      <td>1095</td>\n",
              "      <td>2016-09-14</td>\n",
              "      <td>PT7M37S</td>\n",
              "      <td>F</td>\n",
              "    </tr>\n",
              "    <tr>\n",
              "      <th>1</th>\n",
              "      <td>VID_14135</td>\n",
              "      <td>2</td>\n",
              "      <td>1707</td>\n",
              "      <td>56</td>\n",
              "      <td>2</td>\n",
              "      <td>6</td>\n",
              "      <td>2016-10-01</td>\n",
              "      <td>PT9M30S</td>\n",
              "      <td>D</td>\n",
              "    </tr>\n",
              "    <tr>\n",
              "      <th>2</th>\n",
              "      <td>VID_2187</td>\n",
              "      <td>1</td>\n",
              "      <td>2023</td>\n",
              "      <td>25</td>\n",
              "      <td>0</td>\n",
              "      <td>2</td>\n",
              "      <td>2016-07-02</td>\n",
              "      <td>PT2M16S</td>\n",
              "      <td>C</td>\n",
              "    </tr>\n",
              "    <tr>\n",
              "      <th>3</th>\n",
              "      <td>VID_23096</td>\n",
              "      <td>6</td>\n",
              "      <td>620860</td>\n",
              "      <td>777</td>\n",
              "      <td>161</td>\n",
              "      <td>153</td>\n",
              "      <td>2016-07-27</td>\n",
              "      <td>PT4M22S</td>\n",
              "      <td>H</td>\n",
              "    </tr>\n",
              "    <tr>\n",
              "      <th>4</th>\n",
              "      <td>VID_10175</td>\n",
              "      <td>1</td>\n",
              "      <td>666</td>\n",
              "      <td>1</td>\n",
              "      <td>0</td>\n",
              "      <td>0</td>\n",
              "      <td>2016-06-29</td>\n",
              "      <td>PT31S</td>\n",
              "      <td>D</td>\n",
              "    </tr>\n",
              "  </tbody>\n",
              "</table>\n",
              "</div>"
            ],
            "text/plain": [
              "       vidid  adview    views likes  ... comment   published duration category\n",
              "0  VID_18655      40  1031602  8523  ...    1095  2016-09-14  PT7M37S        F\n",
              "1  VID_14135       2     1707    56  ...       6  2016-10-01  PT9M30S        D\n",
              "2   VID_2187       1     2023    25  ...       2  2016-07-02  PT2M16S        C\n",
              "3  VID_23096       6   620860   777  ...     153  2016-07-27  PT4M22S        H\n",
              "4  VID_10175       1      666     1  ...       0  2016-06-29    PT31S        D\n",
              "\n",
              "[5 rows x 9 columns]"
            ]
          },
          "metadata": {
            "tags": []
          },
          "execution_count": 3
        }
      ]
    },
    {
      "cell_type": "code",
      "metadata": {
        "colab": {
          "base_uri": "https://localhost:8080/"
        },
        "id": "ZmA6Zz5VT3Tx",
        "outputId": "152a8259-94c6-4a87-8bb1-2f01528a7802"
      },
      "source": [
        "data_train.shape"
      ],
      "execution_count": null,
      "outputs": [
        {
          "output_type": "execute_result",
          "data": {
            "text/plain": [
              "(14999, 9)"
            ]
          },
          "metadata": {
            "tags": []
          },
          "execution_count": 4
        }
      ]
    },
    {
      "cell_type": "code",
      "metadata": {
        "colab": {
          "base_uri": "https://localhost:8080/",
          "height": 215
        },
        "id": "EXYBBRFVUCMr",
        "outputId": "815bd4f2-16f4-48d8-b240-42aecdc65e7a"
      },
      "source": [
        "plt.hist(data_train[\"category\"])\n",
        "plt.show()"
      ],
      "execution_count": null,
      "outputs": [
        {
          "output_type": "display_data",
          "data": {
            "image/png": "[encoded data removed]",
            "text/plain": [
              "<Figure size 432x288 with 1 Axes>"
            ]
          },
          "metadata": {
            "tags": [],
            "needs_background": "light"
          }
        }
      ]
    },
    {
      "cell_type": "code",
      "metadata": {
        "colab": {
          "base_uri": "https://localhost:8080/",
          "height": 296
        },
        "id": "jsrtSnFeVFQb",
        "outputId": "af9f353a-f4e7-466f-b2e3-76fad58b74cc"
      },
      "source": [
        "plt.plot(data_train[\"adview\"])\n",
        "plt.show()"
      ],
      "execution_count": null,
      "outputs": [
        {
          "output_type": "display_data",
          "data": {
            "image/png": "[encoded data removed]",
            "text/plain": [
              "<Figure size 432x288 with 1 Axes>"
            ]
          },
          "metadata": {
            "tags": [],
            "needs_background": "light"
          }
        }
      ]
    },
    {
      "cell_type": "code",
      "metadata": {
        "colab": {
          "base_uri": "https://localhost:8080/",
          "height": 276
        },
        "id": "CJpp5f9DVFdb",
        "outputId": "7b5cb47a-ca55-4eb9-b844-434f509f98bb"
      },
      "source": [
        "#Heatmap \n",
        "import seaborn as sns  \n",
        "f, ax = plt.subplots(figsize=(10, 8)) \n",
        "corr = data_train.corr() \n",
        "sns.heatmap(corr, mask=np.zeros_like(corr, dtype=np.bool), cmap=sns.diverging_palette(220, 10, as_cmap=True),  square=True, ax=ax,annot=True) \n",
        "plt.show()"
      ],
      "execution_count": null,
      "outputs": [
        {
          "output_type": "display_data",
          "data": {
            "image/png": "[encoded data removed]",
            "text/plain": [
              "<Figure size 720x576 with 2 Axes>"
            ]
          },
          "metadata": {
            "tags": [],
            "needs_background": "light"
          }
        }
      ]
    },
    {
      "cell_type": "code",
      "metadata": {
        "colab": {
          "base_uri": "https://localhost:8080/",
          "height": 223
        },
        "id": "hPiCslxQVFpv",
        "outputId": "2256f43d-66aa-4047-9bdf-c5d84d70d3bd"
      },
      "source": [
        "data_train=data_train[data_train.views!='F'] \n",
        "data_train=data_train[data_train.likes!='F']\n",
        "data_train=data_train[data_train.dislikes!='F'] \n",
        "data_train=data_train[data_train.comment!='F']\n",
        " \n",
        "data_train.head()"
      ],
      "execution_count": null,
      "outputs": [
        {
          "output_type": "execute_result",
          "data": {
            "text/html": [
              "<div>\n",
              "<style scoped>\n",
              "    .dataframe tbody tr th:only-of-type {\n",
              "        vertical-align: middle;\n",
              "    }\n",
              "\n",
              "    .dataframe tbody tr th {\n",
              "        vertical-align: top;\n",
              "    }\n",
              "\n",
              "    .dataframe thead th {\n",
              "        text-align: right;\n",
              "    }\n",
              "</style>\n",
              "<table border=\"1\" class=\"dataframe\">\n",
              "  <thead>\n",
              "    <tr style=\"text-align: right;\">\n",
              "      <th></th>\n",
              "      <th>vidid</th>\n",
              "      <th>adview</th>\n",
              "      <th>views</th>\n",
              "      <th>likes</th>\n",
              "      <th>dislikes</th>\n",
              "      <th>comment</th>\n",
              "      <th>published</th>\n",
              "      <th>duration</th>\n",
              "      <th>category</th>\n",
              "    </tr>\n",
              "  </thead>\n",
              "  <tbody>\n",
              "    <tr>\n",
              "      <th>0</th>\n",
              "      <td>VID_18655</td>\n",
              "      <td>40</td>\n",
              "      <td>1031602</td>\n",
              "      <td>8523</td>\n",
              "      <td>363</td>\n",
              "      <td>1095</td>\n",
              "      <td>2016-09-14</td>\n",
              "      <td>PT7M37S</td>\n",
              "      <td>F</td>\n",
              "    </tr>\n",
              "    <tr>\n",
              "      <th>1</th>\n",
              "      <td>VID_14135</td>\n",
              "      <td>2</td>\n",
              "      <td>1707</td>\n",
              "      <td>56</td>\n",
              "      <td>2</td>\n",
              "      <td>6</td>\n",
              "      <td>2016-10-01</td>\n",
              "      <td>PT9M30S</td>\n",
              "      <td>D</td>\n",
              "    </tr>\n",
              "    <tr>\n",
              "      <th>2</th>\n",
              "      <td>VID_2187</td>\n",
              "      <td>1</td>\n",
              "      <td>2023</td>\n",
              "      <td>25</td>\n",
              "      <td>0</td>\n",
              "      <td>2</td>\n",
              "      <td>2016-07-02</td>\n",
              "      <td>PT2M16S</td>\n",
              "      <td>C</td>\n",
              "    </tr>\n",
              "    <tr>\n",
              "      <th>3</th>\n",
              "      <td>VID_23096</td>\n",
              "      <td>6</td>\n",
              "      <td>620860</td>\n",
              "      <td>777</td>\n",
              "      <td>161</td>\n",
              "      <td>153</td>\n",
              "      <td>2016-07-27</td>\n",
              "      <td>PT4M22S</td>\n",
              "      <td>H</td>\n",
              "    </tr>\n",
              "    <tr>\n",
              "      <th>4</th>\n",
              "      <td>VID_10175</td>\n",
              "      <td>1</td>\n",
              "      <td>666</td>\n",
              "      <td>1</td>\n",
              "      <td>0</td>\n",
              "      <td>0</td>\n",
              "      <td>2016-06-29</td>\n",
              "      <td>PT31S</td>\n",
              "      <td>D</td>\n",
              "    </tr>\n",
              "  </tbody>\n",
              "</table>\n",
              "</div>"
            ],
            "text/plain": [
              "       vidid  adview    views likes  ... comment   published duration category\n",
              "0  VID_18655      40  1031602  8523  ...    1095  2016-09-14  PT7M37S        F\n",
              "1  VID_14135       2     1707    56  ...       6  2016-10-01  PT9M30S        D\n",
              "2   VID_2187       1     2023    25  ...       2  2016-07-02  PT2M16S        C\n",
              "3  VID_23096       6   620860   777  ...     153  2016-07-27  PT4M22S        H\n",
              "4  VID_10175       1      666     1  ...       0  2016-06-29    PT31S        D\n",
              "\n",
              "[5 rows x 9 columns]"
            ]
          },
          "metadata": {
            "tags": []
          },
          "execution_count": 8
        }
      ]
    },
    {
      "cell_type": "code",
      "metadata": {
        "colab": {
          "base_uri": "https://localhost:8080/",
          "height": 223
        },
        "id": "2iZzqfS2ahz8",
        "outputId": "fee6e739-ef3b-456c-b921-54e41154139f"
      },
      "source": [
        "# Assigning each category a number for Category feature \n",
        "category={'A': 1,'B':2,'C':3,'D':4,'E':5,'F':6,'G':7,'H':8} \n",
        "data_train[\"category\"]=data_train[\"category\"].map(category) \n",
        "data_train.head()"
      ],
      "execution_count": null,
      "outputs": [
        {
          "output_type": "execute_result",
          "data": {
            "text/html": [
              "<div>\n",
              "<style scoped>\n",
              "    .dataframe tbody tr th:only-of-type {\n",
              "        vertical-align: middle;\n",
              "    }\n",
              "\n",
              "    .dataframe tbody tr th {\n",
              "        vertical-align: top;\n",
              "    }\n",
              "\n",
              "    .dataframe thead th {\n",
              "        text-align: right;\n",
              "    }\n",
              "</style>\n",
              "<table border=\"1\" class=\"dataframe\">\n",
              "  <thead>\n",
              "    <tr style=\"text-align: right;\">\n",
              "      <th></th>\n",
              "      <th>vidid</th>\n",
              "      <th>adview</th>\n",
              "      <th>views</th>\n",
              "      <th>likes</th>\n",
              "      <th>dislikes</th>\n",
              "      <th>comment</th>\n",
              "      <th>published</th>\n",
              "      <th>duration</th>\n",
              "      <th>category</th>\n",
              "    </tr>\n",
              "  </thead>\n",
              "  <tbody>\n",
              "    <tr>\n",
              "      <th>0</th>\n",
              "      <td>VID_18655</td>\n",
              "      <td>40</td>\n",
              "      <td>1031602</td>\n",
              "      <td>8523</td>\n",
              "      <td>363</td>\n",
              "      <td>1095</td>\n",
              "      <td>2016-09-14</td>\n",
              "      <td>PT7M37S</td>\n",
              "      <td>6</td>\n",
              "    </tr>\n",
              "    <tr>\n",
              "      <th>1</th>\n",
              "      <td>VID_14135</td>\n",
              "      <td>2</td>\n",
              "      <td>1707</td>\n",
              "      <td>56</td>\n",
              "      <td>2</td>\n",
              "      <td>6</td>\n",
              "      <td>2016-10-01</td>\n",
              "      <td>PT9M30S</td>\n",
              "      <td>4</td>\n",
              "    </tr>\n",
              "    <tr>\n",
              "      <th>2</th>\n",
              "      <td>VID_2187</td>\n",
              "      <td>1</td>\n",
              "      <td>2023</td>\n",
              "      <td>25</td>\n",
              "      <td>0</td>\n",
              "      <td>2</td>\n",
              "      <td>2016-07-02</td>\n",
              "      <td>PT2M16S</td>\n",
              "      <td>3</td>\n",
              "    </tr>\n",
              "    <tr>\n",
              "      <th>3</th>\n",
              "      <td>VID_23096</td>\n",
              "      <td>6</td>\n",
              "      <td>620860</td>\n",
              "      <td>777</td>\n",
              "      <td>161</td>\n",
              "      <td>153</td>\n",
              "      <td>2016-07-27</td>\n",
              "      <td>PT4M22S</td>\n",
              "      <td>8</td>\n",
              "    </tr>\n",
              "    <tr>\n",
              "      <th>4</th>\n",
              "      <td>VID_10175</td>\n",
              "      <td>1</td>\n",
              "      <td>666</td>\n",
              "      <td>1</td>\n",
              "      <td>0</td>\n",
              "      <td>0</td>\n",
              "      <td>2016-06-29</td>\n",
              "      <td>PT31S</td>\n",
              "      <td>4</td>\n",
              "    </tr>\n",
              "  </tbody>\n",
              "</table>\n",
              "</div>"
            ],
            "text/plain": [
              "       vidid  adview    views likes  ... comment   published duration category\n",
              "0  VID_18655      40  1031602  8523  ...    1095  2016-09-14  PT7M37S        6\n",
              "1  VID_14135       2     1707    56  ...       6  2016-10-01  PT9M30S        4\n",
              "2   VID_2187       1     2023    25  ...       2  2016-07-02  PT2M16S        3\n",
              "3  VID_23096       6   620860   777  ...     153  2016-07-27  PT4M22S        8\n",
              "4  VID_10175       1      666     1  ...       0  2016-06-29    PT31S        4\n",
              "\n",
              "[5 rows x 9 columns]"
            ]
          },
          "metadata": {
            "tags": []
          },
          "execution_count": 9
        }
      ]
    },
    {
      "cell_type": "code",
      "metadata": {
        "id": "LvK9mnVeaiIy"
      },
      "source": [
        " # Convert values to integers for views, likes, comments, dislikes and adview \n",
        "data_train[\"views\"] = pd.to_numeric(data_train[\"views\"]) \n",
        "data_train[\"comment\"] = pd.to_numeric(data_train[\"comment\"]) \n",
        "data_train[\"likes\"] = pd.to_numeric(data_train[\"likes\"]) \n",
        "data_train[\"dislikes\"] = pd.to_numeric(data_train[\"dislikes\"]) \n",
        "data_train[\"adview\"]=pd.to_numeric(data_train[\"adview\"])  \n",
        " \n",
        "column_vidid=data_train['vidid']"
      ],
      "execution_count": null,
      "outputs": []
    },
    {
      "cell_type": "code",
      "metadata": {
        "id": "_c3RUHEiah9i",
        "colab": {
          "base_uri": "https://localhost:8080/",
          "height": 223
        },
        "outputId": "3264b9b4-8a62-410d-9584-b6edf8079bcb"
      },
      "source": [
        "# Endoding features like Category, Duration, Vidid \n",
        "from sklearn.preprocessing import LabelEncoder \n",
        "data_train['duration']=LabelEncoder().fit_transform(data_train['duration']) \n",
        "data_train['vidid']=LabelEncoder().fit_transform(data_train['vidid']) \n",
        "data_train['published']=LabelEncoder().fit_transform(data_train['published'])\n",
        " \n",
        "data_train.head()"
      ],
      "execution_count": null,
      "outputs": [
        {
          "output_type": "execute_result",
          "data": {
            "text/html": [
              "<div>\n",
              "<style scoped>\n",
              "    .dataframe tbody tr th:only-of-type {\n",
              "        vertical-align: middle;\n",
              "    }\n",
              "\n",
              "    .dataframe tbody tr th {\n",
              "        vertical-align: top;\n",
              "    }\n",
              "\n",
              "    .dataframe thead th {\n",
              "        text-align: right;\n",
              "    }\n",
              "</style>\n",
              "<table border=\"1\" class=\"dataframe\">\n",
              "  <thead>\n",
              "    <tr style=\"text-align: right;\">\n",
              "      <th></th>\n",
              "      <th>vidid</th>\n",
              "      <th>adview</th>\n",
              "      <th>views</th>\n",
              "      <th>likes</th>\n",
              "      <th>dislikes</th>\n",
              "      <th>comment</th>\n",
              "      <th>published</th>\n",
              "      <th>duration</th>\n",
              "      <th>category</th>\n",
              "    </tr>\n",
              "  </thead>\n",
              "  <tbody>\n",
              "    <tr>\n",
              "      <th>0</th>\n",
              "      <td>5912</td>\n",
              "      <td>40</td>\n",
              "      <td>1031602</td>\n",
              "      <td>8523</td>\n",
              "      <td>363</td>\n",
              "      <td>1095</td>\n",
              "      <td>2168</td>\n",
              "      <td>2925</td>\n",
              "      <td>6</td>\n",
              "    </tr>\n",
              "    <tr>\n",
              "      <th>1</th>\n",
              "      <td>2741</td>\n",
              "      <td>2</td>\n",
              "      <td>1707</td>\n",
              "      <td>56</td>\n",
              "      <td>2</td>\n",
              "      <td>6</td>\n",
              "      <td>2185</td>\n",
              "      <td>3040</td>\n",
              "      <td>4</td>\n",
              "    </tr>\n",
              "    <tr>\n",
              "      <th>2</th>\n",
              "      <td>8138</td>\n",
              "      <td>1</td>\n",
              "      <td>2023</td>\n",
              "      <td>25</td>\n",
              "      <td>0</td>\n",
              "      <td>2</td>\n",
              "      <td>2094</td>\n",
              "      <td>1863</td>\n",
              "      <td>3</td>\n",
              "    </tr>\n",
              "    <tr>\n",
              "      <th>3</th>\n",
              "      <td>9005</td>\n",
              "      <td>6</td>\n",
              "      <td>620860</td>\n",
              "      <td>777</td>\n",
              "      <td>161</td>\n",
              "      <td>153</td>\n",
              "      <td>2119</td>\n",
              "      <td>2546</td>\n",
              "      <td>8</td>\n",
              "    </tr>\n",
              "    <tr>\n",
              "      <th>4</th>\n",
              "      <td>122</td>\n",
              "      <td>1</td>\n",
              "      <td>666</td>\n",
              "      <td>1</td>\n",
              "      <td>0</td>\n",
              "      <td>0</td>\n",
              "      <td>2091</td>\n",
              "      <td>1963</td>\n",
              "      <td>4</td>\n",
              "    </tr>\n",
              "  </tbody>\n",
              "</table>\n",
              "</div>"
            ],
            "text/plain": [
              "   vidid  adview    views  likes  ...  comment  published  duration  category\n",
              "0   5912      40  1031602   8523  ...     1095       2168      2925         6\n",
              "1   2741       2     1707     56  ...        6       2185      3040         4\n",
              "2   8138       1     2023     25  ...        2       2094      1863         3\n",
              "3   9005       6   620860    777  ...      153       2119      2546         8\n",
              "4    122       1      666      1  ...        0       2091      1963         4\n",
              "\n",
              "[5 rows x 9 columns]"
            ]
          },
          "metadata": {
            "tags": []
          },
          "execution_count": 16
        }
      ]
    },
    {
      "cell_type": "code",
      "metadata": {
        "id": "olGWMbF8x7pS"
      },
      "source": [
        "# Convert Time_in_sec for duration \n",
        "import datetime \n",
        "import time"
      ],
      "execution_count": null,
      "outputs": []
    },
    {
      "cell_type": "code",
      "metadata": {
        "colab": {
          "base_uri": "https://localhost:8080/",
          "height": 223
        },
        "id": "jmJlom3pyKf6",
        "outputId": "a2cf2dad-f299-4000-80d1-68efea7eaea5"
      },
      "source": [
        "def checki(x): \n",
        " y = x[2:]  \n",
        " h = '' \n",
        " m = ''  \n",
        " s = '' \n",
        " mm = '' \n",
        " P = ['H','M','S']  \n",
        " for i in y: \n",
        "   if i not in P: \n",
        "    mm+=i  \n",
        "   else: \n",
        "     if(i==\"H\"): \n",
        "      h = mm  \n",
        "      mm = ''  \n",
        "     elif(i == \"M\"): \n",
        "      m = mm \n",
        "      mm = '' \n",
        "     else: \n",
        "      s = mm \n",
        "      mm = ''  \n",
        "    \n",
        " \n",
        " if(h==''): \n",
        "  h = '00' \n",
        " if(m == ''): \n",
        "  m = '00'  \n",
        " if(s==''): \n",
        "  s='00'  \n",
        " bp = h+':'+m+':'+s  \n",
        " return bp \n",
        " \n",
        " \n",
        "mp = pd.read_csv(\"/content/train.csv\")[\"duration\"] \n",
        "time = mp.apply(checki) \n",
        " \n",
        "def func_sec(time_string): \n",
        "   h, m, s = time_string.split(':')  \n",
        "   return int(h) * 3600 + int(m) * 60 + int(s)  \n",
        " \n",
        " \n",
        "time1=time.apply(func_sec) \n",
        " \n",
        "data_train[\"duration\"]=time1 \n",
        "data_train.head()"
      ],
      "execution_count": null,
      "outputs": [
        {
          "output_type": "execute_result",
          "data": {
            "text/html": [
              "<div>\n",
              "<style scoped>\n",
              "    .dataframe tbody tr th:only-of-type {\n",
              "        vertical-align: middle;\n",
              "    }\n",
              "\n",
              "    .dataframe tbody tr th {\n",
              "        vertical-align: top;\n",
              "    }\n",
              "\n",
              "    .dataframe thead th {\n",
              "        text-align: right;\n",
              "    }\n",
              "</style>\n",
              "<table border=\"1\" class=\"dataframe\">\n",
              "  <thead>\n",
              "    <tr style=\"text-align: right;\">\n",
              "      <th></th>\n",
              "      <th>vidid</th>\n",
              "      <th>adview</th>\n",
              "      <th>views</th>\n",
              "      <th>likes</th>\n",
              "      <th>dislikes</th>\n",
              "      <th>comment</th>\n",
              "      <th>published</th>\n",
              "      <th>duration</th>\n",
              "      <th>category</th>\n",
              "    </tr>\n",
              "  </thead>\n",
              "  <tbody>\n",
              "    <tr>\n",
              "      <th>0</th>\n",
              "      <td>5912</td>\n",
              "      <td>40</td>\n",
              "      <td>1031602</td>\n",
              "      <td>8523</td>\n",
              "      <td>363</td>\n",
              "      <td>1095</td>\n",
              "      <td>2168</td>\n",
              "      <td>457</td>\n",
              "      <td>6</td>\n",
              "    </tr>\n",
              "    <tr>\n",
              "      <th>1</th>\n",
              "      <td>2741</td>\n",
              "      <td>2</td>\n",
              "      <td>1707</td>\n",
              "      <td>56</td>\n",
              "      <td>2</td>\n",
              "      <td>6</td>\n",
              "      <td>2185</td>\n",
              "      <td>570</td>\n",
              "      <td>4</td>\n",
              "    </tr>\n",
              "    <tr>\n",
              "      <th>2</th>\n",
              "      <td>8138</td>\n",
              "      <td>1</td>\n",
              "      <td>2023</td>\n",
              "      <td>25</td>\n",
              "      <td>0</td>\n",
              "      <td>2</td>\n",
              "      <td>2094</td>\n",
              "      <td>136</td>\n",
              "      <td>3</td>\n",
              "    </tr>\n",
              "    <tr>\n",
              "      <th>3</th>\n",
              "      <td>9005</td>\n",
              "      <td>6</td>\n",
              "      <td>620860</td>\n",
              "      <td>777</td>\n",
              "      <td>161</td>\n",
              "      <td>153</td>\n",
              "      <td>2119</td>\n",
              "      <td>262</td>\n",
              "      <td>8</td>\n",
              "    </tr>\n",
              "    <tr>\n",
              "      <th>4</th>\n",
              "      <td>122</td>\n",
              "      <td>1</td>\n",
              "      <td>666</td>\n",
              "      <td>1</td>\n",
              "      <td>0</td>\n",
              "      <td>0</td>\n",
              "      <td>2091</td>\n",
              "      <td>31</td>\n",
              "      <td>4</td>\n",
              "    </tr>\n",
              "  </tbody>\n",
              "</table>\n",
              "</div>"
            ],
            "text/plain": [
              "   vidid  adview    views  likes  ...  comment  published  duration  category\n",
              "0   5912      40  1031602   8523  ...     1095       2168       457         6\n",
              "1   2741       2     1707     56  ...        6       2185       570         4\n",
              "2   8138       1     2023     25  ...        2       2094       136         3\n",
              "3   9005       6   620860    777  ...      153       2119       262         8\n",
              "4    122       1      666      1  ...        0       2091        31         4\n",
              "\n",
              "[5 rows x 9 columns]"
            ]
          },
          "metadata": {
            "tags": []
          },
          "execution_count": 26
        }
      ]
    },
    {
      "cell_type": "code",
      "metadata": {
        "id": "T4GtWVXByKwA",
        "colab": {
          "base_uri": "https://localhost:8080/",
          "height": 223
        },
        "outputId": "8e112f38-6231-49fe-efd5-56f77e9b153c"
      },
      "source": [
        "# Split Data \n",
        "Y_train = pd.DataFrame(data = data_train.iloc[:, 1].values, columns = ['target']) \n",
        "data_train=data_train.drop([\"adview\"],axis=1) \n",
        "data_train=data_train.drop([\"vidid\"],axis=1) \n",
        "data_train.head()"
      ],
      "execution_count": null,
      "outputs": [
        {
          "output_type": "execute_result",
          "data": {
            "text/html": [
              "<div>\n",
              "<style scoped>\n",
              "    .dataframe tbody tr th:only-of-type {\n",
              "        vertical-align: middle;\n",
              "    }\n",
              "\n",
              "    .dataframe tbody tr th {\n",
              "        vertical-align: top;\n",
              "    }\n",
              "\n",
              "    .dataframe thead th {\n",
              "        text-align: right;\n",
              "    }\n",
              "</style>\n",
              "<table border=\"1\" class=\"dataframe\">\n",
              "  <thead>\n",
              "    <tr style=\"text-align: right;\">\n",
              "      <th></th>\n",
              "      <th>views</th>\n",
              "      <th>likes</th>\n",
              "      <th>dislikes</th>\n",
              "      <th>comment</th>\n",
              "      <th>published</th>\n",
              "      <th>duration</th>\n",
              "      <th>category</th>\n",
              "    </tr>\n",
              "  </thead>\n",
              "  <tbody>\n",
              "    <tr>\n",
              "      <th>0</th>\n",
              "      <td>1031602</td>\n",
              "      <td>8523</td>\n",
              "      <td>363</td>\n",
              "      <td>1095</td>\n",
              "      <td>2168</td>\n",
              "      <td>457</td>\n",
              "      <td>6</td>\n",
              "    </tr>\n",
              "    <tr>\n",
              "      <th>1</th>\n",
              "      <td>1707</td>\n",
              "      <td>56</td>\n",
              "      <td>2</td>\n",
              "      <td>6</td>\n",
              "      <td>2185</td>\n",
              "      <td>570</td>\n",
              "      <td>4</td>\n",
              "    </tr>\n",
              "    <tr>\n",
              "      <th>2</th>\n",
              "      <td>2023</td>\n",
              "      <td>25</td>\n",
              "      <td>0</td>\n",
              "      <td>2</td>\n",
              "      <td>2094</td>\n",
              "      <td>136</td>\n",
              "      <td>3</td>\n",
              "    </tr>\n",
              "    <tr>\n",
              "      <th>3</th>\n",
              "      <td>620860</td>\n",
              "      <td>777</td>\n",
              "      <td>161</td>\n",
              "      <td>153</td>\n",
              "      <td>2119</td>\n",
              "      <td>262</td>\n",
              "      <td>8</td>\n",
              "    </tr>\n",
              "    <tr>\n",
              "      <th>4</th>\n",
              "      <td>666</td>\n",
              "      <td>1</td>\n",
              "      <td>0</td>\n",
              "      <td>0</td>\n",
              "      <td>2091</td>\n",
              "      <td>31</td>\n",
              "      <td>4</td>\n",
              "    </tr>\n",
              "  </tbody>\n",
              "</table>\n",
              "</div>"
            ],
            "text/plain": [
              "     views  likes  dislikes  comment  published  duration  category\n",
              "0  1031602   8523       363     1095       2168       457         6\n",
              "1     1707     56         2        6       2185       570         4\n",
              "2     2023     25         0        2       2094       136         3\n",
              "3   620860    777       161      153       2119       262         8\n",
              "4      666      1         0        0       2091        31         4"
            ]
          },
          "metadata": {
            "tags": []
          },
          "execution_count": 27
        }
      ]
    },
    {
      "cell_type": "code",
      "metadata": {
        "id": "0totKo0qyK-u",
        "colab": {
          "base_uri": "https://localhost:8080/"
        },
        "outputId": "cc8c779a-d78a-47c6-e9e9-09e203a04d4a"
      },
      "source": [
        "from sklearn.model_selection import train_test_split \n",
        "X_train, X_test, y_train, y_test = train_test_split(data_train, Y_train, test_size=0.2, random_state=42)  \n",
        " \n",
        "X_train.shape"
      ],
      "execution_count": null,
      "outputs": [
        {
          "output_type": "execute_result",
          "data": {
            "text/plain": [
              "(11709, 7)"
            ]
          },
          "metadata": {
            "tags": []
          },
          "execution_count": 29
        }
      ]
    },
    {
      "cell_type": "code",
      "metadata": {
        "colab": {
          "base_uri": "https://localhost:8080/"
        },
        "id": "8jlGnwUM5UXw",
        "outputId": "f7de918c-0d7d-4c15-c20f-896438bf5614"
      },
      "source": [
        "# Normalise Data \n",
        "from sklearn.preprocessing import MinMaxScaler \n",
        "scaler = MinMaxScaler() \n",
        "X_train=scaler.fit_transform(X_train) \n",
        "X_test=scaler.fit_transform(X_test) \n",
        " \n",
        "X_train.mean()"
      ],
      "execution_count": null,
      "outputs": [
        {
          "output_type": "execute_result",
          "data": {
            "text/plain": [
              "0.17395410595763316"
            ]
          },
          "metadata": {
            "tags": []
          },
          "execution_count": 31
        }
      ]
    },
    {
      "cell_type": "code",
      "metadata": {
        "id": "Ukn2N5GZ5Ul5"
      },
      "source": [
        "# Evaluation Metrics \n",
        "from sklearn import metrics \n",
        "def print_error(X_test, y_test, model_name): \n",
        " prediction = model_name.predict(X_test) \n",
        " print('Mean Absolute Error:', metrics.mean_absolute_error(y_test, prediction)) \n",
        " print('Mean Squared Error:', metrics.mean_squared_error(y_test, prediction)) \n",
        " print('Root Mean Squared Error:', np.sqrt(metrics.mean_squared_error(y_test, prediction)))"
      ],
      "execution_count": null,
      "outputs": []
    },
    {
      "cell_type": "code",
      "metadata": {
        "colab": {
          "base_uri": "https://localhost:8080/"
        },
        "id": "o-CDnbzV7bbF",
        "outputId": "46e9ef73-e751-476b-86e9-ff683212c798"
      },
      "source": [
        "# Linear Regression \n",
        "from sklearn import linear_model \n",
        "linear_regression = linear_model.LinearRegression() \n",
        "linear_regression.fit(X_train, y_train) \n",
        "print_error(X_test,y_test, linear_regression)"
      ],
      "execution_count": null,
      "outputs": [
        {
          "output_type": "stream",
          "text": [
            "Mean Absolute Error: 5288.059212091739\n",
            "Mean Squared Error: 10881114821.641329\n",
            "Root Mean Squared Error: 104312.58227865577\n"
          ],
          "name": "stdout"
        }
      ]
    },
    {
      "cell_type": "code",
      "metadata": {
        "colab": {
          "base_uri": "https://localhost:8080/"
        },
        "id": "PqYsbWLr7bhW",
        "outputId": "f581d0aa-d654-4429-ba12-d90c6850481f"
      },
      "source": [
        "# Support Vector Regressor \n",
        "from sklearn.svm import SVR \n",
        "supportvector_regressor = SVR() \n",
        "supportvector_regressor.fit(X_train,y_train) \n",
        "print_error(X_test,y_test, linear_regression)"
      ],
      "execution_count": null,
      "outputs": [
        {
          "output_type": "stream",
          "text": [
            "/usr/local/lib/python3.6/dist-packages/sklearn/utils/validation.py:760: DataConversionWarning: A column-vector y was passed when a 1d array was expected. Please change the shape of y to (n_samples, ), for example using ravel().\n",
            "  y = column_or_1d(y, warn=True)\n"
          ],
          "name": "stderr"
        },
        {
          "output_type": "stream",
          "text": [
            "Mean Absolute Error: 5288.059212091739\n",
            "Mean Squared Error: 10881114821.641329\n",
            "Root Mean Squared Error: 104312.58227865577\n"
          ],
          "name": "stdout"
        }
      ]
    },
    {
      "cell_type": "code",
      "metadata": {
        "colab": {
          "base_uri": "https://localhost:8080/"
        },
        "id": "f9bIcdWn7bn_",
        "outputId": "f32b1fd6-5a7a-4900-b197-57251571787e"
      },
      "source": [
        "# Decision Tree Regressor \n",
        "from sklearn.tree import DecisionTreeRegressor \n",
        "decision_tree = DecisionTreeRegressor() \n",
        "decision_tree.fit(X_train, y_train) \n",
        "print_error(X_test,y_test, decision_tree)"
      ],
      "execution_count": null,
      "outputs": [
        {
          "output_type": "stream",
          "text": [
            "Mean Absolute Error: 5570.351092896175\n",
            "Mean Squared Error: 12367125597.844946\n",
            "Root Mean Squared Error: 111207.57886873065\n"
          ],
          "name": "stdout"
        }
      ]
    },
    {
      "cell_type": "code",
      "metadata": {
        "colab": {
          "base_uri": "https://localhost:8080/"
        },
        "id": "Vxi3Wi1J84pk",
        "outputId": "ef47fbd9-2c41-4a71-abaa-fa29d4949a65"
      },
      "source": [
        "# Random Forest Regressor \n",
        "from sklearn.ensemble import RandomForestRegressor \n",
        "n_estimators = 200 \n",
        "max_depth = 25 \n",
        "min_samples_split=15 \n",
        "min_samples_leaf=2 \n",
        "random_forest = RandomForestRegressor(n_estimators = n_estimators, max_depth = max_depth, min_samples_split=min_samples_split) \n",
        "random_forest.fit(X_train,y_train) \n",
        "print_error(X_test,y_test, random_forest)"
      ],
      "execution_count": null,
      "outputs": [
        {
          "output_type": "stream",
          "text": [
            "/usr/local/lib/python3.6/dist-packages/ipykernel_launcher.py:8: DataConversionWarning: A column-vector y was passed when a 1d array was expected. Please change the shape of y to (n_samples,), for example using ravel().\n",
            "  \n"
          ],
          "name": "stderr"
        },
        {
          "output_type": "stream",
          "text": [
            "Mean Absolute Error: 5205.235054445989\n",
            "Mean Squared Error: 10451244729.840675\n",
            "Root Mean Squared Error: 102231.32949267888\n"
          ],
          "name": "stdout"
        }
      ]
    },
    {
      "cell_type": "code",
      "metadata": {
        "id": "3DFDJCwx_EbE",
        "colab": {
          "base_uri": "https://localhost:8080/"
        },
        "outputId": "097b769a-89fd-4dbc-80c6-c823c7a2eb34"
      },
      "source": [
        "# Artificial Neural Network \n",
        "import keras \n",
        "from keras.layers import Dense  \n",
        " \n",
        "ann = keras.models.Sequential([  Dense(6, activation=\"relu\",  input_shape=X_train.shape[1:]),  Dense(6,activation=\"relu\"),  Dense(1)  ])  \n",
        " \n",
        "optimizer=keras.optimizers.Adam() \n",
        "loss=keras.losses.mean_squared_error \n",
        "ann.compile(optimizer=optimizer,loss=loss,metrics=[\"mean_squared_error\"])\n",
        " \n",
        "history=ann.fit(X_train,y_train,epochs=100)  \n",
        "ann.summary()  \n",
        "print_error(X_test,y_test,ann)"
      ],
      "execution_count": 51,
      "outputs": [
        {
          "output_type": "stream",
          "text": [
            "Epoch 1/100\n",
            "366/366 [==============================] - 0s 947us/step - loss: 767618368.0000 - mean_squared_error: 767618368.0000\n",
            "Epoch 2/100\n",
            "366/366 [==============================] - 0s 1ms/step - loss: 767610944.0000 - mean_squared_error: 767610944.0000\n",
            "Epoch 3/100\n",
            "366/366 [==============================] - 0s 1ms/step - loss: 767598848.0000 - mean_squared_error: 767598848.0000\n",
            "Epoch 4/100\n",
            "366/366 [==============================] - 0s 949us/step - loss: 767581696.0000 - mean_squared_error: 767581696.0000\n",
            "Epoch 5/100\n",
            "366/366 [==============================] - 0s 896us/step - loss: 767558784.0000 - mean_squared_error: 767558784.0000\n",
            "Epoch 6/100\n",
            "366/366 [==============================] - 0s 892us/step - loss: 767530752.0000 - mean_squared_error: 767530752.0000\n",
            "Epoch 7/100\n",
            "366/366 [==============================] - 0s 912us/step - loss: 767494144.0000 - mean_squared_error: 767494144.0000\n",
            "Epoch 8/100\n",
            "366/366 [==============================] - 0s 873us/step - loss: 767448832.0000 - mean_squared_error: 767448832.0000\n",
            "Epoch 9/100\n",
            "366/366 [==============================] - 0s 879us/step - loss: 767393920.0000 - mean_squared_error: 767393920.0000\n",
            "Epoch 10/100\n",
            "366/366 [==============================] - 0s 935us/step - loss: 767330688.0000 - mean_squared_error: 767330688.0000\n",
            "Epoch 11/100\n",
            "366/366 [==============================] - 0s 871us/step - loss: 767260608.0000 - mean_squared_error: 767260608.0000\n",
            "Epoch 12/100\n",
            "366/366 [==============================] - 0s 913us/step - loss: 767180416.0000 - mean_squared_error: 767180416.0000\n",
            "Epoch 13/100\n",
            "366/366 [==============================] - 0s 899us/step - loss: 767095168.0000 - mean_squared_error: 767095168.0000\n",
            "Epoch 14/100\n",
            "366/366 [==============================] - 0s 932us/step - loss: 767003136.0000 - mean_squared_error: 767003136.0000\n",
            "Epoch 15/100\n",
            "366/366 [==============================] - 0s 959us/step - loss: 766911872.0000 - mean_squared_error: 766911872.0000\n",
            "Epoch 16/100\n",
            "366/366 [==============================] - 0s 922us/step - loss: 766816064.0000 - mean_squared_error: 766816064.0000\n",
            "Epoch 17/100\n",
            "366/366 [==============================] - 0s 876us/step - loss: 766718848.0000 - mean_squared_error: 766718848.0000\n",
            "Epoch 18/100\n",
            "366/366 [==============================] - 0s 896us/step - loss: 766614208.0000 - mean_squared_error: 766614208.0000\n",
            "Epoch 19/100\n",
            "366/366 [==============================] - 0s 904us/step - loss: 766511360.0000 - mean_squared_error: 766511360.0000\n",
            "Epoch 20/100\n",
            "366/366 [==============================] - 0s 872us/step - loss: 766406336.0000 - mean_squared_error: 766406336.0000\n",
            "Epoch 21/100\n",
            "366/366 [==============================] - 0s 886us/step - loss: 766298240.0000 - mean_squared_error: 766298240.0000\n",
            "Epoch 22/100\n",
            "366/366 [==============================] - 0s 1ms/step - loss: 766188608.0000 - mean_squared_error: 766188608.0000\n",
            "Epoch 23/100\n",
            "366/366 [==============================] - 0s 1ms/step - loss: 766077440.0000 - mean_squared_error: 766077440.0000\n",
            "Epoch 24/100\n",
            "366/366 [==============================] - 0s 889us/step - loss: 765969152.0000 - mean_squared_error: 765969152.0000\n",
            "Epoch 25/100\n",
            "366/366 [==============================] - 0s 919us/step - loss: 765860672.0000 - mean_squared_error: 765860672.0000\n",
            "Epoch 26/100\n",
            "366/366 [==============================] - 0s 877us/step - loss: 765752256.0000 - mean_squared_error: 765752256.0000\n",
            "Epoch 27/100\n",
            "366/366 [==============================] - 0s 902us/step - loss: 765649280.0000 - mean_squared_error: 765649280.0000\n",
            "Epoch 28/100\n",
            "366/366 [==============================] - 0s 917us/step - loss: 765544576.0000 - mean_squared_error: 765544576.0000\n",
            "Epoch 29/100\n",
            "366/366 [==============================] - 0s 868us/step - loss: 765445696.0000 - mean_squared_error: 765445696.0000\n",
            "Epoch 30/100\n",
            "366/366 [==============================] - 0s 905us/step - loss: 765350848.0000 - mean_squared_error: 765350848.0000\n",
            "Epoch 31/100\n",
            "366/366 [==============================] - 0s 908us/step - loss: 765264960.0000 - mean_squared_error: 765264960.0000\n",
            "Epoch 32/100\n",
            "366/366 [==============================] - 0s 894us/step - loss: 765176128.0000 - mean_squared_error: 765176128.0000\n",
            "Epoch 33/100\n",
            "366/366 [==============================] - 0s 911us/step - loss: 765092864.0000 - mean_squared_error: 765092864.0000\n",
            "Epoch 34/100\n",
            "366/366 [==============================] - 0s 895us/step - loss: 765014784.0000 - mean_squared_error: 765014784.0000\n",
            "Epoch 35/100\n",
            "366/366 [==============================] - 0s 916us/step - loss: 764937216.0000 - mean_squared_error: 764937216.0000\n",
            "Epoch 36/100\n",
            "366/366 [==============================] - 0s 931us/step - loss: 764862720.0000 - mean_squared_error: 764862720.0000\n",
            "Epoch 37/100\n",
            "366/366 [==============================] - 0s 913us/step - loss: 764794752.0000 - mean_squared_error: 764794752.0000\n",
            "Epoch 38/100\n",
            "366/366 [==============================] - 0s 886us/step - loss: 764728896.0000 - mean_squared_error: 764728896.0000\n",
            "Epoch 39/100\n",
            "366/366 [==============================] - 0s 941us/step - loss: 764665792.0000 - mean_squared_error: 764665792.0000\n",
            "Epoch 40/100\n",
            "366/366 [==============================] - 0s 1ms/step - loss: 764603456.0000 - mean_squared_error: 764603456.0000\n",
            "Epoch 41/100\n",
            "366/366 [==============================] - 0s 996us/step - loss: 764547776.0000 - mean_squared_error: 764547776.0000\n",
            "Epoch 42/100\n",
            "366/366 [==============================] - 0s 915us/step - loss: 764493376.0000 - mean_squared_error: 764493376.0000\n",
            "Epoch 43/100\n",
            "366/366 [==============================] - 0s 919us/step - loss: 764440128.0000 - mean_squared_error: 764440128.0000\n",
            "Epoch 44/100\n",
            "366/366 [==============================] - 0s 988us/step - loss: 764387840.0000 - mean_squared_error: 764387840.0000\n",
            "Epoch 45/100\n",
            "366/366 [==============================] - 0s 898us/step - loss: 764340288.0000 - mean_squared_error: 764340288.0000\n",
            "Epoch 46/100\n",
            "366/366 [==============================] - 0s 927us/step - loss: 764294784.0000 - mean_squared_error: 764294784.0000\n",
            "Epoch 47/100\n",
            "366/366 [==============================] - 0s 890us/step - loss: 764250240.0000 - mean_squared_error: 764250240.0000\n",
            "Epoch 48/100\n",
            "366/366 [==============================] - 0s 965us/step - loss: 764207104.0000 - mean_squared_error: 764207104.0000\n",
            "Epoch 49/100\n",
            "366/366 [==============================] - 0s 915us/step - loss: 764162304.0000 - mean_squared_error: 764162304.0000\n",
            "Epoch 50/100\n",
            "366/366 [==============================] - 0s 927us/step - loss: 764122944.0000 - mean_squared_error: 764122944.0000\n",
            "Epoch 51/100\n",
            "366/366 [==============================] - 0s 892us/step - loss: 764082880.0000 - mean_squared_error: 764082880.0000\n",
            "Epoch 52/100\n",
            "366/366 [==============================] - 0s 932us/step - loss: 764044672.0000 - mean_squared_error: 764044672.0000\n",
            "Epoch 53/100\n",
            "366/366 [==============================] - 0s 960us/step - loss: 764004992.0000 - mean_squared_error: 764004992.0000\n",
            "Epoch 54/100\n",
            "366/366 [==============================] - 0s 945us/step - loss: 763969536.0000 - mean_squared_error: 763969536.0000\n",
            "Epoch 55/100\n",
            "366/366 [==============================] - 0s 971us/step - loss: 763928768.0000 - mean_squared_error: 763928768.0000\n",
            "Epoch 56/100\n",
            "366/366 [==============================] - 0s 890us/step - loss: 763893312.0000 - mean_squared_error: 763893312.0000\n",
            "Epoch 57/100\n",
            "366/366 [==============================] - 0s 940us/step - loss: 763854784.0000 - mean_squared_error: 763854784.0000\n",
            "Epoch 58/100\n",
            "366/366 [==============================] - 0s 934us/step - loss: 763822656.0000 - mean_squared_error: 763822656.0000\n",
            "Epoch 59/100\n",
            "366/366 [==============================] - 0s 883us/step - loss: 763786944.0000 - mean_squared_error: 763786944.0000\n",
            "Epoch 60/100\n",
            "366/366 [==============================] - 0s 887us/step - loss: 763749952.0000 - mean_squared_error: 763749952.0000\n",
            "Epoch 61/100\n",
            "366/366 [==============================] - 0s 882us/step - loss: 763715008.0000 - mean_squared_error: 763715008.0000\n",
            "Epoch 62/100\n",
            "366/366 [==============================] - 0s 954us/step - loss: 763679360.0000 - mean_squared_error: 763679360.0000\n",
            "Epoch 63/100\n",
            "366/366 [==============================] - 0s 946us/step - loss: 763645312.0000 - mean_squared_error: 763645312.0000\n",
            "Epoch 64/100\n",
            "366/366 [==============================] - 0s 900us/step - loss: 763609600.0000 - mean_squared_error: 763609600.0000\n",
            "Epoch 65/100\n",
            "366/366 [==============================] - 0s 929us/step - loss: 763572160.0000 - mean_squared_error: 763572160.0000\n",
            "Epoch 66/100\n",
            "366/366 [==============================] - 0s 926us/step - loss: 763539840.0000 - mean_squared_error: 763539840.0000\n",
            "Epoch 67/100\n",
            "366/366 [==============================] - 0s 949us/step - loss: 763510912.0000 - mean_squared_error: 763510912.0000\n",
            "Epoch 68/100\n",
            "366/366 [==============================] - 0s 903us/step - loss: 763470912.0000 - mean_squared_error: 763470912.0000\n",
            "Epoch 69/100\n",
            "366/366 [==============================] - 0s 963us/step - loss: 763444544.0000 - mean_squared_error: 763444544.0000\n",
            "Epoch 70/100\n",
            "366/366 [==============================] - 0s 902us/step - loss: 763408896.0000 - mean_squared_error: 763408896.0000\n",
            "Epoch 71/100\n",
            "366/366 [==============================] - 0s 900us/step - loss: 763374016.0000 - mean_squared_error: 763374016.0000\n",
            "Epoch 72/100\n",
            "366/366 [==============================] - 0s 948us/step - loss: 763340288.0000 - mean_squared_error: 763340288.0000\n",
            "Epoch 73/100\n",
            "366/366 [==============================] - 0s 942us/step - loss: 763307904.0000 - mean_squared_error: 763307904.0000\n",
            "Epoch 74/100\n",
            "366/366 [==============================] - 0s 943us/step - loss: 763287360.0000 - mean_squared_error: 763287360.0000\n",
            "Epoch 75/100\n",
            "366/366 [==============================] - 0s 898us/step - loss: 763251584.0000 - mean_squared_error: 763251584.0000\n",
            "Epoch 76/100\n",
            "366/366 [==============================] - 0s 952us/step - loss: 763215552.0000 - mean_squared_error: 763215552.0000\n",
            "Epoch 77/100\n",
            "366/366 [==============================] - 0s 992us/step - loss: 763188224.0000 - mean_squared_error: 763188224.0000\n",
            "Epoch 78/100\n",
            "366/366 [==============================] - 0s 1ms/step - loss: 763158720.0000 - mean_squared_error: 763158720.0000\n",
            "Epoch 79/100\n",
            "366/366 [==============================] - 0s 961us/step - loss: 763137408.0000 - mean_squared_error: 763137408.0000\n",
            "Epoch 80/100\n",
            "366/366 [==============================] - 0s 918us/step - loss: 763103360.0000 - mean_squared_error: 763103360.0000\n",
            "Epoch 81/100\n",
            "366/366 [==============================] - 0s 929us/step - loss: 763071808.0000 - mean_squared_error: 763071808.0000\n",
            "Epoch 82/100\n",
            "366/366 [==============================] - 0s 908us/step - loss: 763046336.0000 - mean_squared_error: 763046336.0000\n",
            "Epoch 83/100\n",
            "366/366 [==============================] - 0s 895us/step - loss: 763015616.0000 - mean_squared_error: 763015616.0000\n",
            "Epoch 84/100\n",
            "366/366 [==============================] - 0s 935us/step - loss: 762992576.0000 - mean_squared_error: 762992576.0000\n",
            "Epoch 85/100\n",
            "366/366 [==============================] - 0s 982us/step - loss: 762968320.0000 - mean_squared_error: 762968320.0000\n",
            "Epoch 86/100\n",
            "366/366 [==============================] - 0s 934us/step - loss: 762944832.0000 - mean_squared_error: 762944832.0000\n",
            "Epoch 87/100\n",
            "366/366 [==============================] - 0s 979us/step - loss: 762915392.0000 - mean_squared_error: 762915392.0000\n",
            "Epoch 88/100\n",
            "366/366 [==============================] - 0s 908us/step - loss: 762888960.0000 - mean_squared_error: 762888960.0000\n",
            "Epoch 89/100\n",
            "366/366 [==============================] - 0s 1ms/step - loss: 762860160.0000 - mean_squared_error: 762860160.0000\n",
            "Epoch 90/100\n",
            "366/366 [==============================] - 0s 1ms/step - loss: 762853504.0000 - mean_squared_error: 762853504.0000\n",
            "Epoch 91/100\n",
            "366/366 [==============================] - 0s 887us/step - loss: 762823168.0000 - mean_squared_error: 762823168.0000\n",
            "Epoch 92/100\n",
            "366/366 [==============================] - 0s 1ms/step - loss: 762792512.0000 - mean_squared_error: 762792512.0000\n",
            "Epoch 93/100\n",
            "366/366 [==============================] - 0s 981us/step - loss: 762775040.0000 - mean_squared_error: 762775040.0000\n",
            "Epoch 94/100\n",
            "366/366 [==============================] - 0s 920us/step - loss: 762751744.0000 - mean_squared_error: 762751744.0000\n",
            "Epoch 95/100\n",
            "366/366 [==============================] - 0s 990us/step - loss: 762732864.0000 - mean_squared_error: 762732864.0000\n",
            "Epoch 96/100\n",
            "366/366 [==============================] - 0s 943us/step - loss: 762704640.0000 - mean_squared_error: 762704640.0000\n",
            "Epoch 97/100\n",
            "366/366 [==============================] - 0s 1ms/step - loss: 762694784.0000 - mean_squared_error: 762694784.0000\n",
            "Epoch 98/100\n",
            "366/366 [==============================] - 0s 932us/step - loss: 762663488.0000 - mean_squared_error: 762663488.0000\n",
            "Epoch 99/100\n",
            "366/366 [==============================] - 0s 929us/step - loss: 762641472.0000 - mean_squared_error: 762641472.0000\n",
            "Epoch 100/100\n",
            "366/366 [==============================] - 0s 887us/step - loss: 762623552.0000 - mean_squared_error: 762623552.0000\n",
            "Model: \"sequential_2\"\n",
            "_________________________________________________________________\n",
            "Layer (type)                 Output Shape              Param #   \n",
            "=================================================================\n",
            "dense_6 (Dense)              (None, 6)                 48        \n",
            "_________________________________________________________________\n",
            "dense_7 (Dense)              (None, 6)                 42        \n",
            "_________________________________________________________________\n",
            "dense_8 (Dense)              (None, 1)                 7         \n",
            "=================================================================\n",
            "Total params: 97\n",
            "Trainable params: 97\n",
            "Non-trainable params: 0\n",
            "_________________________________________________________________\n",
            "Mean Absolute Error: 4915.789670676807\n",
            "Mean Squared Error: 10884895319.980043\n",
            "Root Mean Squared Error: 104330.7017132543\n"
          ],
          "name": "stdout"
        }
      ]
    },
    {
      "cell_type": "code",
      "metadata": {
        "id": "klJI8wtX84x7"
      },
      "source": [
        "#Saving Scikitlearn models \n",
        "import joblib \n",
        "joblib.dump(decision_tree, \"decisiontree_youtubeadview.pkl\")  \n",
        "# Saving Keras Artificial Neural Network model \n",
        "ann.save(\"ann_youtubeadview.h5\")"
      ],
      "execution_count": 54,
      "outputs": []
    }
  ]
}